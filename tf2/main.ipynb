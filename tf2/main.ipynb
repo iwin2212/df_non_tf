{
 "metadata": {
  "language_info": {
   "codemirror_mode": {
    "name": "ipython",
    "version": 3
   },
   "file_extension": ".py",
   "mimetype": "text/x-python",
   "name": "python",
   "nbconvert_exporter": "python",
   "pygments_lexer": "ipython3",
   "version": "3.8.8-final"
  },
  "orig_nbformat": 2,
  "kernelspec": {
   "name": "python388jvsc74a57bd09823b6adb3395e4303df74f19d7f78943d820c0adfc31896b3bda58a2c77a21d",
   "display_name": "Python 3.8.8 64-bit ('deepface': conda)"
  },
  "metadata": {
   "interpreter": {
    "hash": "31f2aee4e71d21fbe5cf8b01ff0e069b9275f58929596ceb00d14d90e3e16cd6"
   }
  }
 },
 "nbformat": 4,
 "nbformat_minor": 2,
 "cells": [
  {
   "cell_type": "code",
   "execution_count": 2,
   "metadata": {},
   "outputs": [
    {
     "output_type": "stream",
     "name": "stdout",
     "text": [
      "Model: \"model_3\"\n__________________________________________________________________________________________________\nLayer (type)                    Output Shape         Param #     Connected to                     \n==================================================================================================\ninput_4 (InputLayer)            [(None, None, None,  0                                            \n__________________________________________________________________________________________________\nconv2d_12 (Conv2D)              (None, None, None, 1 280         input_4[0][0]                    \n__________________________________________________________________________________________________\np_re_lu_12 (PReLU)              (None, None, None, 1 10          conv2d_12[0][0]                  \n__________________________________________________________________________________________________\nmax_pooling2d_6 (MaxPooling2D)  (None, None, None, 1 0           p_re_lu_12[0][0]                 \n__________________________________________________________________________________________________\nconv2d_13 (Conv2D)              (None, None, None, 1 1456        max_pooling2d_6[0][0]            \n__________________________________________________________________________________________________\np_re_lu_13 (PReLU)              (None, None, None, 1 16          conv2d_13[0][0]                  \n__________________________________________________________________________________________________\nconv2d_14 (Conv2D)              (None, None, None, 3 4640        p_re_lu_13[0][0]                 \n__________________________________________________________________________________________________\np_re_lu_14 (PReLU)              (None, None, None, 3 32          conv2d_14[0][0]                  \n__________________________________________________________________________________________________\nconv2d_15 (Conv2D)              (None, None, None, 2 66          p_re_lu_14[0][0]                 \n__________________________________________________________________________________________________\nconv2d_16 (Conv2D)              (None, None, None, 4 132         p_re_lu_14[0][0]                 \n__________________________________________________________________________________________________\nsoftmax_3 (Softmax)             (None, None, None, 2 0           conv2d_15[0][0]                  \n==================================================================================================\nTotal params: 6,632\nTrainable params: 6,632\nNon-trainable params: 0\n__________________________________________________________________________________________________\n"
     ]
    }
   ],
   "source": [
    "from mtcnn.network.factory import NetworkFactory\n",
    "import pkg_resources\n",
    "import tensorflow as tf\n",
    "weights_file = pkg_resources.resource_stream('mtcnn', 'data/mtcnn_weights.npy')\n",
    "_pnet, _rnet, _onet = NetworkFactory().build_P_R_O_nets_from_file(weights_file)\n",
    "_pnet.summary()\n",
    "\n",
    "# converter = tf.lite.TFLiteConverter.from_keras_model(_pnet)\n",
    "# tflite_model = converter.convert()\n",
    "# open(\"_pnet.tflite\", \"wb\").write(tflite_model)\n",
    "\n",
    "# converter = tf.lite.TFLiteConverter.from_keras_model(_rnet)\n",
    "# tflite_model = converter.convert()\n",
    "# open(\"_rnet.tflite\", \"wb\").write(tflite_model)\n",
    "\n",
    "# converter = tf.lite.TFLiteConverter.from_keras_model(_onet)\n",
    "# tflite_model = converter.convert()\n",
    "# open(\"_onet.tflite\", \"wb\").write(tflite_model)\n"
   ]
  },
  {
   "cell_type": "code",
   "execution_count": null,
   "metadata": {},
   "outputs": [],
   "source": []
  }
 ]
}