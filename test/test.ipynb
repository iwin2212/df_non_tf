{
 "metadata": {
  "language_info": {
   "codemirror_mode": {
    "name": "ipython",
    "version": 3
   },
   "file_extension": ".py",
   "mimetype": "text/x-python",
   "name": "python",
   "nbconvert_exporter": "python",
   "pygments_lexer": "ipython3",
   "version": "3.8.8"
  },
  "orig_nbformat": 2,
  "kernelspec": {
   "name": "python388jvsc74a57bd06a86ac621b85ad949cff8b51d0e7b42644254e47c9936611eec5b3f574c04fea",
   "display_name": "Python 3.8.8 64-bit ('demo_df': conda)"
  },
  "metadata": {
   "interpreter": {
    "hash": "6a86ac621b85ad949cff8b51d0e7b42644254e47c9936611eec5b3f574c04fea"
   }
  }
 },
 "nbformat": 4,
 "nbformat_minor": 2,
 "cells": [
  {
   "cell_type": "code",
   "execution_count": 4,
   "metadata": {},
   "outputs": [],
   "source": [
    "import numpy as np\n",
    "import pandas as pd\n",
    "from data import add_img2db\n",
    "import os\n",
    "\n",
    "db_path = \"/home/iwin/Desktop/df_non_tf/database\""
   ]
  },
  {
   "cell_type": "code",
   "execution_count": 3,
   "metadata": {},
   "outputs": [
    {
     "output_type": "stream",
     "name": "stdout",
     "text": [
      "Files in folder 'dungAI' has renamed\nFiles in folder 'thang' has renamed\nFiles in folder 'unknown' has renamed\nFiles in folder 'quang' has renamed\n"
     ]
    }
   ],
   "source": [
    "def rename_db(db_path):\n",
    "    for name in os.listdir(db_path):\n",
    "        for path, dirs, files in os.walk(os.path.join(db_path, name)):\n",
    "            for index, file in enumerate(files):\n",
    "                if (('.jpg' in file) and (name not in file)):\n",
    "                    os.rename(os.path.join(db_path, name, file), os.path.join(db_path, name, (name + str(index) +\n",
    "                                                                                              '.jpg').replace(' ', '_')))\n",
    "            print(\"Files in folder '{}' has renamed\".format(name))\n",
    "\n",
    "rename_db(db_path)"
   ]
  },
  {
   "source": [
    "def save_embeddings(db_path):\n",
    "    for name in os.listdir(db_path):\n",
    "        img_dir = os.path.join(db_path, name)\n",
    "        for root, dirs, files in os.walk(img_dir):\n",
    "            for index, image in enumerate(files):\n",
    "                try:\n",
    "                    embeddings = np.zeros(shape=(0, 2))\n",
    "                    add_img2db(os.path.join(img_dir, image), image[:-4])\n",
    "                except Exception as error:\n",
    "                    print(\"{}: {}\".format(image, error))\n",
    "save_embeddings(db_path)"
   ],
   "cell_type": "code",
   "metadata": {},
   "execution_count": 6,
   "outputs": [
    {
     "output_type": "stream",
     "name": "stderr",
     "text": [
      "/home/iwin/Desktop/df_non_tf/data.py:26: VisibleDeprecationWarning: Creating an ndarray from ragged nested sequences (which is a list-or-tuple of lists-or-tuples-or ndarrays with different lengths or shapes) is deprecated. If you meant to do this, you must specify 'dtype=object' when creating the ndarray.\n",
      "  new_embeddings = np.concatenate([embeddings, np.array([label, embedding]).reshape(1, 2)], axis=0)\n",
      "dungAI2.jpg: Face could not be detected. Please confirm that the picture is a face photo or consider to set enforce_detection param to False.\n"
     ]
    }
   ]
  },
  {
   "cell_type": "code",
   "execution_count": 9,
   "metadata": {},
   "outputs": [
    {
     "output_type": "stream",
     "name": "stdout",
     "text": [
      "   employee                                          embedding distance_metric\n0   dungAI4  [-0.8877100944519043, -0.5849766731262207, -0....          cosine\n1   dungAI0  [-0.09177115559577942, -0.22508874535560608, -...          cosine\n2   dungAI1  [-0.5938217639923096, -0.33780691027641296, -0...          cosine\n3   dungAI3  [-0.06439873576164246, 0.026956766843795776, -...          cosine\n4   dungAI5  [-0.39733800292015076, -0.5513089895248413, -0...          cosine\n5    thang4  [1.0540673732757568, -1.1311308145523071, -1.3...          cosine\n6    thang2  [0.18586322665214539, -0.7877187728881836, -2....          cosine\n7    thang3  [0.17470479011535645, -1.3649296760559082, -2....          cosine\n8    thang1  [0.4244084060192108, -0.5422282218933105, -1.1...          cosine\n9    thang0  [0.4610830247402191, -0.09934435784816742, -1....          cosine\n10   thang5  [0.3746912181377411, -1.586525559425354, -1.96...          cosine\n11   quang2  [-0.7970337867736816, -0.4979420602321625, -2....          cosine\n12   quang1  [0.2166135013103485, -1.0171689987182617, -2.2...          cosine\n13   quang0  [-0.024701997637748718, -0.4590047299861908, -...          cosine\n14   quang3  [-0.14236745238304138, -2.0511629581451416, -2...          cosine\n15   quang4  [0.10475081950426102, -0.95357346534729, -1.86...          cosine\n"
     ]
    }
   ],
   "source": [
    "embeddings = np.load(\"embedding.npy\", allow_pickle=True)\n",
    "df = pd.DataFrame(embeddings, columns=['employee', 'embedding'])\n",
    "df['distance_metric'] = \"cosine\"\n",
    "print(df)"
   ]
  }
 ]
}