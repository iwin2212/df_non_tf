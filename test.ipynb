{
 "metadata": {
  "language_info": {
   "codemirror_mode": {
    "name": "ipython",
    "version": 3
   },
   "file_extension": ".py",
   "mimetype": "text/x-python",
   "name": "python",
   "nbconvert_exporter": "python",
   "pygments_lexer": "ipython3",
   "version": "3.8.8"
  },
  "orig_nbformat": 2,
  "kernelspec": {
   "name": "python388jvsc74a57bd00287a30a7effb30c08c9a84f9b2fcf8ca8257de56a2e4f3f31609f559501e542",
   "display_name": "Python 3.8.8 64-bit ('demo': conda)"
  },
  "metadata": {
   "interpreter": {
    "hash": "0287a30a7effb30c08c9a84f9b2fcf8ca8257de56a2e4f3f31609f559501e542"
   }
  }
 },
 "nbformat": 4,
 "nbformat_minor": 2,
 "cells": [
  {
   "cell_type": "code",
   "execution_count": 7,
   "metadata": {},
   "outputs": [
    {
     "output_type": "stream",
     "name": "stdout",
     "text": [
      "(13, 2)\n    employee                                          embedding\n0   dung iot  [-0.7765059471130371, 0.3102518618106842, -0.1...\n1        huy  [-0.6999508142471313, 0.19460153579711914, 0.3...\n2        huy  [-0.7330529689788818, 0.20925360918045044, 0.5...\n3   dung iot  [-0.7174053192138672, 0.17831841111183167, -0....\n4   dung iot  [-0.67438805103302, 0.17458829283714294, -0.31...\n5        huy  [-0.7656643390655518, 0.260541170835495, 0.333...\n6   dung iot  [-0.5565565824508667, 0.16035358607769012, -0....\n7   dung iot  [-0.7729181051254272, 0.13665960729122162, -0....\n8      thang  [-0.04782263934612274, -0.3762679994106293, -0...\n9      thang  [-0.24696466326713562, -0.1846621036529541, -0...\n10     thang  [-0.3819861114025116, 0.07413502037525177, -0....\n11     thang  [-0.6313878297805786, 0.12402766942977905, -0....\n12     thang  [-0.5261427164077759, -0.002521805465221405, -...\n"
     ]
    }
   ],
   "source": [
    "import numpy as np\n",
    "import pandas as pd\n",
    "from const import embedding_path\n",
    "embeddings = np.load(embedding_path, allow_pickle=True)\n",
    "df = pd.DataFrame(embeddings, columns=['employee', 'embedding'])\n",
    "print(df.shape)\n",
    "print(df)"
   ]
  },
  {
   "cell_type": "code",
   "execution_count": 7,
   "metadata": {
    "tags": []
   },
   "outputs": [
    {
     "output_type": "stream",
     "name": "stdout",
     "text": [
      "['./static/snap_shots/snap0.jpg', './static/snap_shots/snap7.jpg', './static/snap_shots/snap2.jpg', './static/snap_shots/snap1.jpg', './static/snap_shots/snap4.jpg', './static/snap_shots/snap6.jpg', './static/snap_shots/snap8.jpg', './static/snap_shots/snap3.jpg', './static/snap_shots/snap5.jpg']\n"
     ]
    }
   ],
   "source": [
    "# check file in snapshots exist\n",
    "import os\n",
    "from pathlib import Path\n",
    "from const import snap_path\n",
    "\n",
    "def get_img():\n",
    "   list_path = []\n",
    "   for root, dirs, files in os.walk(snap_path, topdown=False):\n",
    "      for name in files:\n",
    "         path = \"./\" + os.path.join(root, name)\n",
    "         list_path.append(path)\n",
    "   return list_path\n",
    "   \n",
    "print(get_img())"
   ]
  },
  {
   "cell_type": "code",
   "execution_count": 16,
   "metadata": {},
   "outputs": [
    {
     "output_type": "stream",
     "name": "stdout",
     "text": [
      "/usr/share/hassio/homeassistant/tmp/camera/atv_cam_20210512-133455.jpg\n"
     ]
    }
   ],
   "source": [
    "from const import img_path\n",
    "import os\n",
    "\n",
    "def remove_file(file_path):\n",
    "    for root, dirs, files in os.walk(file_path, topdown=False):\n",
    "        for img in files:\n",
    "            if (\".jpg\" in img):\n",
    "                print(os.path.join(root, img))\n",
    "                os.remove(os.path.join(root, img))\n",
    "remove_file(img_path)"
   ]
  },
  {
   "cell_type": "code",
   "execution_count": 8,
   "metadata": {},
   "outputs": [
    {
     "output_type": "stream",
     "name": "stdout",
     "text": [
      "0\n1\n2\n"
     ]
    }
   ],
   "source": [
    "for i in range(3):\n",
    "    print(i)"
   ]
  }
 ]
}