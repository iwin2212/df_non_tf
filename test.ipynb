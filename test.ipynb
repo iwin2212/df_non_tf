{
 "metadata": {
  "language_info": {
   "codemirror_mode": {
    "name": "ipython",
    "version": 3
   },
   "file_extension": ".py",
   "mimetype": "text/x-python",
   "name": "python",
   "nbconvert_exporter": "python",
   "pygments_lexer": "ipython3",
   "version": "3.8.8"
  },
  "orig_nbformat": 2,
  "kernelspec": {
   "name": "python388jvsc74a57bd00287a30a7effb30c08c9a84f9b2fcf8ca8257de56a2e4f3f31609f559501e542",
   "display_name": "Python 3.8.8 64-bit ('demo': conda)"
  },
  "metadata": {
   "interpreter": {
    "hash": "0287a30a7effb30c08c9a84f9b2fcf8ca8257de56a2e4f3f31609f559501e542"
   }
  }
 },
 "nbformat": 4,
 "nbformat_minor": 2,
 "cells": [
  {
   "cell_type": "code",
   "execution_count": 8,
   "metadata": {},
   "outputs": [
    {
     "output_type": "stream",
     "name": "stdout",
     "text": [
      "(19, 2)\n    employee                                          embedding\n0        huy  [0.22873210906982422, -0.9564796686172485, -2....\n1        huy  [-0.1191978007555008, -1.648725986480713, -2.4...\n2        huy  [0.5203070640563965, -0.9194456338882446, -2.1...\n3        huy  [0.20127424597740173, -0.8754792213439941, -2....\n4        huy  [-0.11226420104503632, -0.8447368144989014, -2...\n5    dung ai  [0.9970278739929199, -1.1126073598861694, -3.1...\n6    dung ai  [0.8800203800201416, -1.1757560968399048, -3.0...\n7    dung ai  [1.2486956119537354, -1.0430350303649902, -3.2...\n8    dung ai  [1.0159077644348145, -1.186078429222107, -2.83...\n9    dung ai  [0.7063747644424438, -1.053912878036499, -2.80...\n10  dung iot  [-0.014605514705181122, -0.7461525201797485, -...\n11  dung iot  [0.022123202681541443, -0.9281516075134277, -0...\n12  dung iot  [-0.35685089230537415, -0.5286805629730225, -1...\n13  dung iot  [-0.33963507413864136, -0.3695027530193329, -0...\n14  dung iot  [-0.5359537601470947, -0.7440876960754395, -0....\n15     thang  [0.5457626581192017, -1.7796396017074585, -1.8...\n16     thang  [0.6490243673324585, -1.6345521211624146, -1.6...\n17     thang  [0.40709951519966125, -1.5133579969406128, -1....\n18     thang  [0.6650192737579346, -1.438938021659851, -1.62...\n"
     ]
    }
   ],
   "source": [
    "import numpy as np\n",
    "import pandas as pd\n",
    "from const import embedding_path\n",
    "embeddings = np.load(embedding_path, allow_pickle=True)\n",
    "df = pd.DataFrame(embeddings, columns=['employee', 'embedding'])\n",
    "print(df.shape)\n",
    "print(df)"
   ]
  },
  {
   "cell_type": "code",
   "execution_count": 7,
   "metadata": {
    "tags": []
   },
   "outputs": [
    {
     "output_type": "stream",
     "name": "stdout",
     "text": [
      "['./static/snap_shots/snap0.jpg', './static/snap_shots/snap7.jpg', './static/snap_shots/snap2.jpg', './static/snap_shots/snap1.jpg', './static/snap_shots/snap4.jpg', './static/snap_shots/snap6.jpg', './static/snap_shots/snap8.jpg', './static/snap_shots/snap3.jpg', './static/snap_shots/snap5.jpg']\n"
     ]
    }
   ],
   "source": [
    "# check file in snapshots exist\n",
    "import os\n",
    "from pathlib import Path\n",
    "from const import snap_path\n",
    "\n",
    "def get_img():\n",
    "   list_path = []\n",
    "   for root, dirs, files in os.walk(snap_path, topdown=False):\n",
    "      for name in files:\n",
    "         path = \"./\" + os.path.join(root, name)\n",
    "         list_path.append(path)\n",
    "   return list_path\n",
    "   \n",
    "print(get_img())"
   ]
  },
  {
   "cell_type": "code",
   "execution_count": 7,
   "metadata": {},
   "outputs": [
    {
     "output_type": "error",
     "ename": "KeyError",
     "evalue": "'            \"action\"'",
     "traceback": [
      "\u001b[0;31m---------------------------------------------------------------------------\u001b[0m",
      "\u001b[0;31mKeyError\u001b[0m                                  Traceback (most recent call last)",
      "\u001b[0;32m<ipython-input-7-6f68da715512>\u001b[0m in \u001b[0;36m<module>\u001b[0;34m\u001b[0m\n\u001b[1;32m     18\u001b[0m     \u001b[0mprint\u001b[0m\u001b[0;34m(\u001b[0m\u001b[0merr\u001b[0m\u001b[0;34m)\u001b[0m\u001b[0;34m\u001b[0m\u001b[0;34m\u001b[0m\u001b[0m\n\u001b[1;32m     19\u001b[0m \u001b[0;34m\u001b[0m\u001b[0m\n\u001b[0;32m---> 20\u001b[0;31m \u001b[0mprint\u001b[0m\u001b[0;34m(\u001b[0m\u001b[0mdata_form\u001b[0m\u001b[0;34m.\u001b[0m\u001b[0mreplace\u001b[0m\u001b[0;34m(\u001b[0m\u001b[0;34m\"\\n\"\u001b[0m\u001b[0;34m,\u001b[0m \u001b[0;34m\"\"\u001b[0m\u001b[0;34m)\u001b[0m\u001b[0;34m.\u001b[0m\u001b[0mformat\u001b[0m\u001b[0;34m(\u001b[0m\u001b[0;36m1\u001b[0m\u001b[0;34m,\u001b[0m \u001b[0;36m2\u001b[0m\u001b[0;34m,\u001b[0m \u001b[0;36m3\u001b[0m\u001b[0;34m)\u001b[0m\u001b[0;34m)\u001b[0m\u001b[0;34m\u001b[0m\u001b[0;34m\u001b[0m\u001b[0m\n\u001b[0m",
      "\u001b[0;31mKeyError\u001b[0m: '            \"action\"'"
     ]
    }
   ],
   "source": [
    "try:\n",
    "    data_form = \"\"\"\n",
    "        {\n",
    "            \"action\": [{\n",
    "                \"alias\": {},\n",
    "                \"condition\": [],\n",
    "                \"id\": {},\n",
    "                \"trigger\": [{ \n",
    "                    \"entity_id\": {},\n",
    "                    \"platform\": \"state\",\n",
    "                    \"from\": \"off\",\n",
    "                    \"to\": \"on\"\n",
    "                }]\n",
    "            }]\n",
    "        }\n",
    "    \"\"\"\n",
    "except Exception as err:\n",
    "    print(err)\n",
    "\n",
    "print(data_form.replace(\"\\n\", \"\").format(1, 2, 3))"
   ]
  }
 ]
}